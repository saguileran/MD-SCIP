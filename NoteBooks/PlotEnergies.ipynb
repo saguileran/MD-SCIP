{
  "nbformat": 4,
  "nbformat_minor": 0,
  "metadata": {
    "colab": {
      "provenance": [],
      "authorship_tag": "ABX9TyMQc3kt8iQbgmesOxlRy2Zd",
      "include_colab_link": true
    },
    "kernelspec": {
      "name": "python3",
      "display_name": "Python 3"
    },
    "language_info": {
      "name": "python"
    },
    "gpuClass": "standard",
    "accelerator": "GPU"
  },
  "cells": [
    {
      "cell_type": "markdown",
      "metadata": {
        "id": "view-in-github",
        "colab_type": "text"
      },
      "source": [
        "<a href=\"https://colab.research.google.com/github/saguileran/MD-SCPI/blob/main/NoteBooks/PlotEnergies.ipynb\" target=\"_parent\"><img src=\"https://colab.research.google.com/assets/colab-badge.svg\" alt=\"Open In Colab\"/></a>"
      ]
    },
    {
      "cell_type": "markdown",
      "source": [
        "# Install packages"
      ],
      "metadata": {
        "id": "rL5Eq0TlzIab"
      }
    },
    {
      "cell_type": "code",
      "source": [
        "!pip install -q https://github.com/conda-incubator/condacolab/archive/main.zip\n",
        "import condacolab\n",
        "condacolab.install()"
      ],
      "metadata": {
        "colab": {
          "base_uri": "https://localhost:8080/",
          "height": 201
        },
        "id": "OtvaNP5Ry41C",
        "outputId": "5331ed51-eb3f-4c8d-8b0e-ed835c0f2ba7"
      },
      "execution_count": 3,
      "outputs": [
        {
          "output_type": "stream",
          "name": "stdout",
          "text": [
            "\u001b[?25l     \u001b[32m-\u001b[0m \u001b[32m0 bytes\u001b[0m \u001b[31m?\u001b[0m \u001b[33m0:00:00\u001b[0m\r\u001b[2K     \u001b[32m-\u001b[0m \u001b[32m36.7 kB\u001b[0m \u001b[31m4.8 MB/s\u001b[0m \u001b[33m0:00:00\u001b[0m\n",
            "\u001b[?25h  Installing build dependencies ... \u001b[?25l\u001b[?25hdone\n",
            "  Getting requirements to build wheel ... \u001b[?25l\u001b[?25hdone\n",
            "  Preparing metadata (pyproject.toml) ... \u001b[?25l\u001b[?25hdone\n",
            "  Building wheel for condacolab (pyproject.toml) ... \u001b[?25l\u001b[?25hdone\n",
            "⏬ Downloading https://github.com/jaimergp/miniforge/releases/latest/download/Mambaforge-colab-Linux-x86_64.sh...\n",
            "📌 Adjusting configuration...\n",
            "📦 Installing...\n",
            "⏲ Done in 0:01:29\n",
            "🔁 Restarting kernel...\n"
          ]
        }
      ]
    },
    {
      "cell_type": "code",
      "execution_count": 1,
      "metadata": {
        "id": "Jd3dZbm-1MCQ"
      },
      "outputs": [],
      "source": [
        "%%capture\n",
        "import sys\n",
        "\n",
        "!{sys.executable} -m pip install jscatter\n",
        "!{sys.executable} -m pip install ipympl\n",
        "!{sys.executable} -m pip install -i https://pypi.anaconda.org/ambermd/simple pytraj \n",
        "!mamba install -c conda-forge openbabel -y\n",
        "!pip install --upgrade MDAnalysis\n",
        "#!mamba install -c conda-forge ambertools -y"
      ]
    },
    {
      "cell_type": "markdown",
      "source": [
        "# Import libraries"
      ],
      "metadata": {
        "id": "wMdi8Ro6zLBk"
      }
    },
    {
      "cell_type": "code",
      "source": [
        "%matplotlib ipympl\n",
        "\n",
        "import jscatter as js\n",
        "import matplotlib.pyplot as plt\n",
        "import os \n",
        "import numpy as np\n",
        "from google.colab import output\n",
        "import pandas as pd\n",
        "import seaborn as sb \n",
        "import matplotlib.gridspec as gridspec\n",
        "#import pytraj as pt\n",
        "\n",
        "js.usempl(True)  # use matplotlib\n",
        "#js.usempl(False) # default, use grace on your computer with xmgrace in external window.\n",
        "\n",
        "\n",
        "output.enable_custom_widget_manager()"
      ],
      "metadata": {
        "colab": {
          "base_uri": "https://localhost:8080/",
          "height": 489
        },
        "id": "XIal-QpN1aV8",
        "outputId": "84f413ca-f851-4dee-b192-e81527f25b38"
      },
      "execution_count": 2,
      "outputs": [
        {
          "output_type": "error",
          "ename": "ModuleNotFoundError",
          "evalue": "ignored",
          "traceback": [
            "\u001b[0;31m---------------------------------------------------------------------------\u001b[0m",
            "\u001b[0;31mModuleNotFoundError\u001b[0m                       Traceback (most recent call last)",
            "\u001b[0;32m<ipython-input-2-f09d9fd60fb3>\u001b[0m in \u001b[0;36m<module>\u001b[0;34m\u001b[0m\n\u001b[0;32m----> 1\u001b[0;31m \u001b[0mget_ipython\u001b[0m\u001b[0;34m(\u001b[0m\u001b[0;34m)\u001b[0m\u001b[0;34m.\u001b[0m\u001b[0mrun_line_magic\u001b[0m\u001b[0;34m(\u001b[0m\u001b[0;34m'matplotlib'\u001b[0m\u001b[0;34m,\u001b[0m \u001b[0;34m'ipympl'\u001b[0m\u001b[0;34m)\u001b[0m\u001b[0;34m\u001b[0m\u001b[0;34m\u001b[0m\u001b[0m\n\u001b[0m\u001b[1;32m      2\u001b[0m \u001b[0;34m\u001b[0m\u001b[0m\n\u001b[1;32m      3\u001b[0m \u001b[0;32mimport\u001b[0m \u001b[0mjscatter\u001b[0m \u001b[0;32mas\u001b[0m \u001b[0mjs\u001b[0m\u001b[0;34m\u001b[0m\u001b[0;34m\u001b[0m\u001b[0m\n\u001b[1;32m      4\u001b[0m \u001b[0;32mimport\u001b[0m \u001b[0mmatplotlib\u001b[0m\u001b[0;34m.\u001b[0m\u001b[0mpyplot\u001b[0m \u001b[0;32mas\u001b[0m \u001b[0mplt\u001b[0m\u001b[0;34m\u001b[0m\u001b[0;34m\u001b[0m\u001b[0m\n\u001b[1;32m      5\u001b[0m \u001b[0;32mimport\u001b[0m \u001b[0mos\u001b[0m\u001b[0;34m\u001b[0m\u001b[0;34m\u001b[0m\u001b[0m\n",
            "\u001b[0;32m/usr/local/lib/python3.9/dist-packages/IPython/core/interactiveshell.py\u001b[0m in \u001b[0;36mrun_line_magic\u001b[0;34m(self, magic_name, line, _stack_depth)\u001b[0m\n\u001b[1;32m   2312\u001b[0m                 \u001b[0mkwargs\u001b[0m\u001b[0;34m[\u001b[0m\u001b[0;34m'local_ns'\u001b[0m\u001b[0;34m]\u001b[0m \u001b[0;34m=\u001b[0m \u001b[0msys\u001b[0m\u001b[0;34m.\u001b[0m\u001b[0m_getframe\u001b[0m\u001b[0;34m(\u001b[0m\u001b[0mstack_depth\u001b[0m\u001b[0;34m)\u001b[0m\u001b[0;34m.\u001b[0m\u001b[0mf_locals\u001b[0m\u001b[0;34m\u001b[0m\u001b[0;34m\u001b[0m\u001b[0m\n\u001b[1;32m   2313\u001b[0m             \u001b[0;32mwith\u001b[0m \u001b[0mself\u001b[0m\u001b[0;34m.\u001b[0m\u001b[0mbuiltin_trap\u001b[0m\u001b[0;34m:\u001b[0m\u001b[0;34m\u001b[0m\u001b[0;34m\u001b[0m\u001b[0m\n\u001b[0;32m-> 2314\u001b[0;31m                 \u001b[0mresult\u001b[0m \u001b[0;34m=\u001b[0m \u001b[0mfn\u001b[0m\u001b[0;34m(\u001b[0m\u001b[0;34m*\u001b[0m\u001b[0margs\u001b[0m\u001b[0;34m,\u001b[0m \u001b[0;34m**\u001b[0m\u001b[0mkwargs\u001b[0m\u001b[0;34m)\u001b[0m\u001b[0;34m\u001b[0m\u001b[0;34m\u001b[0m\u001b[0m\n\u001b[0m\u001b[1;32m   2315\u001b[0m             \u001b[0;32mreturn\u001b[0m \u001b[0mresult\u001b[0m\u001b[0;34m\u001b[0m\u001b[0;34m\u001b[0m\u001b[0m\n\u001b[1;32m   2316\u001b[0m \u001b[0;34m\u001b[0m\u001b[0m\n",
            "\u001b[0;32m<decorator-gen-101>\u001b[0m in \u001b[0;36mmatplotlib\u001b[0;34m(self, line)\u001b[0m\n",
            "\u001b[0;32m/usr/local/lib/python3.9/dist-packages/IPython/core/magic.py\u001b[0m in \u001b[0;36m<lambda>\u001b[0;34m(f, *a, **k)\u001b[0m\n\u001b[1;32m    185\u001b[0m     \u001b[0;31m# but it's overkill for just that one bit of state.\u001b[0m\u001b[0;34m\u001b[0m\u001b[0;34m\u001b[0m\u001b[0m\n\u001b[1;32m    186\u001b[0m     \u001b[0;32mdef\u001b[0m \u001b[0mmagic_deco\u001b[0m\u001b[0;34m(\u001b[0m\u001b[0marg\u001b[0m\u001b[0;34m)\u001b[0m\u001b[0;34m:\u001b[0m\u001b[0;34m\u001b[0m\u001b[0;34m\u001b[0m\u001b[0m\n\u001b[0;32m--> 187\u001b[0;31m         \u001b[0mcall\u001b[0m \u001b[0;34m=\u001b[0m \u001b[0;32mlambda\u001b[0m \u001b[0mf\u001b[0m\u001b[0;34m,\u001b[0m \u001b[0;34m*\u001b[0m\u001b[0ma\u001b[0m\u001b[0;34m,\u001b[0m \u001b[0;34m**\u001b[0m\u001b[0mk\u001b[0m\u001b[0;34m:\u001b[0m \u001b[0mf\u001b[0m\u001b[0;34m(\u001b[0m\u001b[0;34m*\u001b[0m\u001b[0ma\u001b[0m\u001b[0;34m,\u001b[0m \u001b[0;34m**\u001b[0m\u001b[0mk\u001b[0m\u001b[0;34m)\u001b[0m\u001b[0;34m\u001b[0m\u001b[0;34m\u001b[0m\u001b[0m\n\u001b[0m\u001b[1;32m    188\u001b[0m \u001b[0;34m\u001b[0m\u001b[0m\n\u001b[1;32m    189\u001b[0m         \u001b[0;32mif\u001b[0m \u001b[0mcallable\u001b[0m\u001b[0;34m(\u001b[0m\u001b[0marg\u001b[0m\u001b[0;34m)\u001b[0m\u001b[0;34m:\u001b[0m\u001b[0;34m\u001b[0m\u001b[0;34m\u001b[0m\u001b[0m\n",
            "\u001b[0;32m/usr/local/lib/python3.9/dist-packages/IPython/core/magics/pylab.py\u001b[0m in \u001b[0;36mmatplotlib\u001b[0;34m(self, line)\u001b[0m\n\u001b[1;32m     97\u001b[0m             \u001b[0mprint\u001b[0m\u001b[0;34m(\u001b[0m\u001b[0;34m\"Available matplotlib backends: %s\"\u001b[0m \u001b[0;34m%\u001b[0m \u001b[0mbackends_list\u001b[0m\u001b[0;34m)\u001b[0m\u001b[0;34m\u001b[0m\u001b[0;34m\u001b[0m\u001b[0m\n\u001b[1;32m     98\u001b[0m         \u001b[0;32melse\u001b[0m\u001b[0;34m:\u001b[0m\u001b[0;34m\u001b[0m\u001b[0;34m\u001b[0m\u001b[0m\n\u001b[0;32m---> 99\u001b[0;31m             \u001b[0mgui\u001b[0m\u001b[0;34m,\u001b[0m \u001b[0mbackend\u001b[0m \u001b[0;34m=\u001b[0m \u001b[0mself\u001b[0m\u001b[0;34m.\u001b[0m\u001b[0mshell\u001b[0m\u001b[0;34m.\u001b[0m\u001b[0menable_matplotlib\u001b[0m\u001b[0;34m(\u001b[0m\u001b[0margs\u001b[0m\u001b[0;34m.\u001b[0m\u001b[0mgui\u001b[0m\u001b[0;34m.\u001b[0m\u001b[0mlower\u001b[0m\u001b[0;34m(\u001b[0m\u001b[0;34m)\u001b[0m \u001b[0;32mif\u001b[0m \u001b[0misinstance\u001b[0m\u001b[0;34m(\u001b[0m\u001b[0margs\u001b[0m\u001b[0;34m.\u001b[0m\u001b[0mgui\u001b[0m\u001b[0;34m,\u001b[0m \u001b[0mstr\u001b[0m\u001b[0;34m)\u001b[0m \u001b[0;32melse\u001b[0m \u001b[0margs\u001b[0m\u001b[0;34m.\u001b[0m\u001b[0mgui\u001b[0m\u001b[0;34m)\u001b[0m\u001b[0;34m\u001b[0m\u001b[0;34m\u001b[0m\u001b[0m\n\u001b[0m\u001b[1;32m    100\u001b[0m             \u001b[0mself\u001b[0m\u001b[0;34m.\u001b[0m\u001b[0m_show_matplotlib_backend\u001b[0m\u001b[0;34m(\u001b[0m\u001b[0margs\u001b[0m\u001b[0;34m.\u001b[0m\u001b[0mgui\u001b[0m\u001b[0;34m,\u001b[0m \u001b[0mbackend\u001b[0m\u001b[0;34m)\u001b[0m\u001b[0;34m\u001b[0m\u001b[0;34m\u001b[0m\u001b[0m\n\u001b[1;32m    101\u001b[0m \u001b[0;34m\u001b[0m\u001b[0m\n",
            "\u001b[0;32m/usr/local/lib/python3.9/dist-packages/IPython/core/interactiveshell.py\u001b[0m in \u001b[0;36menable_matplotlib\u001b[0;34m(self, gui)\u001b[0m\n\u001b[1;32m   3412\u001b[0m                 \u001b[0mgui\u001b[0m\u001b[0;34m,\u001b[0m \u001b[0mbackend\u001b[0m \u001b[0;34m=\u001b[0m \u001b[0mpt\u001b[0m\u001b[0;34m.\u001b[0m\u001b[0mfind_gui_and_backend\u001b[0m\u001b[0;34m(\u001b[0m\u001b[0mself\u001b[0m\u001b[0;34m.\u001b[0m\u001b[0mpylab_gui_select\u001b[0m\u001b[0;34m)\u001b[0m\u001b[0;34m\u001b[0m\u001b[0;34m\u001b[0m\u001b[0m\n\u001b[1;32m   3413\u001b[0m \u001b[0;34m\u001b[0m\u001b[0m\n\u001b[0;32m-> 3414\u001b[0;31m         \u001b[0mpt\u001b[0m\u001b[0;34m.\u001b[0m\u001b[0mactivate_matplotlib\u001b[0m\u001b[0;34m(\u001b[0m\u001b[0mbackend\u001b[0m\u001b[0;34m)\u001b[0m\u001b[0;34m\u001b[0m\u001b[0;34m\u001b[0m\u001b[0m\n\u001b[0m\u001b[1;32m   3415\u001b[0m         \u001b[0mpt\u001b[0m\u001b[0;34m.\u001b[0m\u001b[0mconfigure_inline_support\u001b[0m\u001b[0;34m(\u001b[0m\u001b[0mself\u001b[0m\u001b[0;34m,\u001b[0m \u001b[0mbackend\u001b[0m\u001b[0;34m)\u001b[0m\u001b[0;34m\u001b[0m\u001b[0;34m\u001b[0m\u001b[0m\n\u001b[1;32m   3416\u001b[0m \u001b[0;34m\u001b[0m\u001b[0m\n",
            "\u001b[0;32m/usr/local/lib/python3.9/dist-packages/IPython/core/pylabtools.py\u001b[0m in \u001b[0;36mactivate_matplotlib\u001b[0;34m(backend)\u001b[0m\n\u001b[1;32m    312\u001b[0m \u001b[0;34m\u001b[0m\u001b[0m\n\u001b[1;32m    313\u001b[0m     \u001b[0;32mimport\u001b[0m \u001b[0mmatplotlib\u001b[0m\u001b[0;34m.\u001b[0m\u001b[0mpyplot\u001b[0m\u001b[0;34m\u001b[0m\u001b[0;34m\u001b[0m\u001b[0m\n\u001b[0;32m--> 314\u001b[0;31m     \u001b[0mmatplotlib\u001b[0m\u001b[0;34m.\u001b[0m\u001b[0mpyplot\u001b[0m\u001b[0;34m.\u001b[0m\u001b[0mswitch_backend\u001b[0m\u001b[0;34m(\u001b[0m\u001b[0mbackend\u001b[0m\u001b[0;34m)\u001b[0m\u001b[0;34m\u001b[0m\u001b[0;34m\u001b[0m\u001b[0m\n\u001b[0m\u001b[1;32m    315\u001b[0m \u001b[0;34m\u001b[0m\u001b[0m\n\u001b[1;32m    316\u001b[0m     \u001b[0;31m# This must be imported last in the matplotlib series, after\u001b[0m\u001b[0;34m\u001b[0m\u001b[0;34m\u001b[0m\u001b[0m\n",
            "\u001b[0;32m/usr/local/lib/python3.9/dist-packages/matplotlib/pyplot.py\u001b[0m in \u001b[0;36mswitch_backend\u001b[0;34m(newbackend)\u001b[0m\n\u001b[1;32m    280\u001b[0m     \u001b[0mbackend_name\u001b[0m \u001b[0;34m=\u001b[0m \u001b[0mcbook\u001b[0m\u001b[0;34m.\u001b[0m\u001b[0m_backend_module_name\u001b[0m\u001b[0;34m(\u001b[0m\u001b[0mnewbackend\u001b[0m\u001b[0;34m)\u001b[0m\u001b[0;34m\u001b[0m\u001b[0;34m\u001b[0m\u001b[0m\n\u001b[1;32m    281\u001b[0m \u001b[0;34m\u001b[0m\u001b[0m\n\u001b[0;32m--> 282\u001b[0;31m     \u001b[0;32mclass\u001b[0m \u001b[0mbackend_mod\u001b[0m\u001b[0;34m(\u001b[0m\u001b[0mmatplotlib\u001b[0m\u001b[0;34m.\u001b[0m\u001b[0mbackend_bases\u001b[0m\u001b[0;34m.\u001b[0m\u001b[0m_Backend\u001b[0m\u001b[0;34m)\u001b[0m\u001b[0;34m:\u001b[0m\u001b[0;34m\u001b[0m\u001b[0;34m\u001b[0m\u001b[0m\n\u001b[0m\u001b[1;32m    283\u001b[0m         \u001b[0mlocals\u001b[0m\u001b[0;34m(\u001b[0m\u001b[0;34m)\u001b[0m\u001b[0;34m.\u001b[0m\u001b[0mupdate\u001b[0m\u001b[0;34m(\u001b[0m\u001b[0mvars\u001b[0m\u001b[0;34m(\u001b[0m\u001b[0mimportlib\u001b[0m\u001b[0;34m.\u001b[0m\u001b[0mimport_module\u001b[0m\u001b[0;34m(\u001b[0m\u001b[0mbackend_name\u001b[0m\u001b[0;34m)\u001b[0m\u001b[0;34m)\u001b[0m\u001b[0;34m)\u001b[0m\u001b[0;34m\u001b[0m\u001b[0;34m\u001b[0m\u001b[0m\n\u001b[1;32m    284\u001b[0m \u001b[0;34m\u001b[0m\u001b[0m\n",
            "\u001b[0;32m/usr/local/lib/python3.9/dist-packages/matplotlib/pyplot.py\u001b[0m in \u001b[0;36mbackend_mod\u001b[0;34m()\u001b[0m\n\u001b[1;32m    281\u001b[0m \u001b[0;34m\u001b[0m\u001b[0m\n\u001b[1;32m    282\u001b[0m     \u001b[0;32mclass\u001b[0m \u001b[0mbackend_mod\u001b[0m\u001b[0;34m(\u001b[0m\u001b[0mmatplotlib\u001b[0m\u001b[0;34m.\u001b[0m\u001b[0mbackend_bases\u001b[0m\u001b[0;34m.\u001b[0m\u001b[0m_Backend\u001b[0m\u001b[0;34m)\u001b[0m\u001b[0;34m:\u001b[0m\u001b[0;34m\u001b[0m\u001b[0;34m\u001b[0m\u001b[0m\n\u001b[0;32m--> 283\u001b[0;31m         \u001b[0mlocals\u001b[0m\u001b[0;34m(\u001b[0m\u001b[0;34m)\u001b[0m\u001b[0;34m.\u001b[0m\u001b[0mupdate\u001b[0m\u001b[0;34m(\u001b[0m\u001b[0mvars\u001b[0m\u001b[0;34m(\u001b[0m\u001b[0mimportlib\u001b[0m\u001b[0;34m.\u001b[0m\u001b[0mimport_module\u001b[0m\u001b[0;34m(\u001b[0m\u001b[0mbackend_name\u001b[0m\u001b[0;34m)\u001b[0m\u001b[0;34m)\u001b[0m\u001b[0;34m)\u001b[0m\u001b[0;34m\u001b[0m\u001b[0;34m\u001b[0m\u001b[0m\n\u001b[0m\u001b[1;32m    284\u001b[0m \u001b[0;34m\u001b[0m\u001b[0m\n\u001b[1;32m    285\u001b[0m     \u001b[0mrequired_framework\u001b[0m \u001b[0;34m=\u001b[0m \u001b[0m_get_required_interactive_framework\u001b[0m\u001b[0;34m(\u001b[0m\u001b[0mbackend_mod\u001b[0m\u001b[0;34m)\u001b[0m\u001b[0;34m\u001b[0m\u001b[0;34m\u001b[0m\u001b[0m\n",
            "\u001b[0;32m/usr/lib/python3.9/importlib/__init__.py\u001b[0m in \u001b[0;36mimport_module\u001b[0;34m(name, package)\u001b[0m\n\u001b[1;32m    125\u001b[0m                 \u001b[0;32mbreak\u001b[0m\u001b[0;34m\u001b[0m\u001b[0;34m\u001b[0m\u001b[0m\n\u001b[1;32m    126\u001b[0m             \u001b[0mlevel\u001b[0m \u001b[0;34m+=\u001b[0m \u001b[0;36m1\u001b[0m\u001b[0;34m\u001b[0m\u001b[0;34m\u001b[0m\u001b[0m\n\u001b[0;32m--> 127\u001b[0;31m     \u001b[0;32mreturn\u001b[0m \u001b[0m_bootstrap\u001b[0m\u001b[0;34m.\u001b[0m\u001b[0m_gcd_import\u001b[0m\u001b[0;34m(\u001b[0m\u001b[0mname\u001b[0m\u001b[0;34m[\u001b[0m\u001b[0mlevel\u001b[0m\u001b[0;34m:\u001b[0m\u001b[0;34m]\u001b[0m\u001b[0;34m,\u001b[0m \u001b[0mpackage\u001b[0m\u001b[0;34m,\u001b[0m \u001b[0mlevel\u001b[0m\u001b[0;34m)\u001b[0m\u001b[0;34m\u001b[0m\u001b[0;34m\u001b[0m\u001b[0m\n\u001b[0m\u001b[1;32m    128\u001b[0m \u001b[0;34m\u001b[0m\u001b[0m\n\u001b[1;32m    129\u001b[0m \u001b[0;34m\u001b[0m\u001b[0m\n",
            "\u001b[0;32m/usr/lib/python3.9/importlib/_bootstrap.py\u001b[0m in \u001b[0;36m_gcd_import\u001b[0;34m(name, package, level)\u001b[0m\n",
            "\u001b[0;32m/usr/lib/python3.9/importlib/_bootstrap.py\u001b[0m in \u001b[0;36m_find_and_load\u001b[0;34m(name, import_)\u001b[0m\n",
            "\u001b[0;32m/usr/lib/python3.9/importlib/_bootstrap.py\u001b[0m in \u001b[0;36m_find_and_load_unlocked\u001b[0;34m(name, import_)\u001b[0m\n",
            "\u001b[0;32m/usr/lib/python3.9/importlib/_bootstrap.py\u001b[0m in \u001b[0;36m_call_with_frames_removed\u001b[0;34m(f, *args, **kwds)\u001b[0m\n",
            "\u001b[0;32m/usr/lib/python3.9/importlib/_bootstrap.py\u001b[0m in \u001b[0;36m_gcd_import\u001b[0;34m(name, package, level)\u001b[0m\n",
            "\u001b[0;32m/usr/lib/python3.9/importlib/_bootstrap.py\u001b[0m in \u001b[0;36m_find_and_load\u001b[0;34m(name, import_)\u001b[0m\n",
            "\u001b[0;32m/usr/lib/python3.9/importlib/_bootstrap.py\u001b[0m in \u001b[0;36m_find_and_load_unlocked\u001b[0;34m(name, import_)\u001b[0m\n",
            "\u001b[0;31mModuleNotFoundError\u001b[0m: No module named 'ipympl'",
            "",
            "\u001b[0;31m---------------------------------------------------------------------------\u001b[0;32m\nNOTE: If your import is failing due to a missing package, you can\nmanually install dependencies using either !pip or !apt.\n\nTo view examples of installing some common dependencies, click the\n\"Open Examples\" button below.\n\u001b[0;31m---------------------------------------------------------------------------\u001b[0m\n"
          ],
          "errorDetails": {
            "actions": [
              {
                "action": "open_url",
                "actionText": "Open Examples",
                "url": "/notebooks/snippets/importing_libraries.ipynb"
              }
            ]
          }
        }
      ]
    },
    {
      "cell_type": "markdown",
      "source": [
        "# Import Files"
      ],
      "metadata": {
        "id": "pdQzVxoN9GPz"
      }
    },
    {
      "cell_type": "code",
      "source": [
        "#@title Import files from google\n",
        "#from google.colab import drive\n",
        "\n",
        "#drive.flush_and_unmount()\n",
        "#drive.mount('/content/drive', force_remount=False)"
      ],
      "metadata": {
        "id": "ugs89i3J4w_M"
      },
      "execution_count": null,
      "outputs": []
    },
    {
      "cell_type": "code",
      "source": [
        "#@title Github\n",
        "\n",
        "!rm -r /content/MD-SCPI\n",
        "!git clone https://github.com/saguileran/MD-SCPI\n"
      ],
      "metadata": {
        "colab": {
          "base_uri": "https://localhost:8080/"
        },
        "id": "p9IrMdDDb39G",
        "outputId": "3ec2f462-d8a2-41c2-8b1f-f7ef3b99f3d2"
      },
      "execution_count": 3,
      "outputs": [
        {
          "output_type": "stream",
          "name": "stdout",
          "text": [
            "rm: cannot remove '/content/MD-SCPI': No such file or directory\n",
            "Cloning into 'MD-SCPI'...\n",
            "remote: Enumerating objects: 1427, done.\u001b[K\n",
            "remote: Counting objects: 100% (456/456), done.\u001b[K\n",
            "remote: Compressing objects: 100% (254/254), done.\u001b[K\n",
            "remote: Total 1427 (delta 214), reused 401 (delta 180), pack-reused 971\u001b[K\n",
            "Receiving objects: 100% (1427/1427), 223.24 MiB | 22.30 MiB/s, done.\n",
            "Resolving deltas: 100% (627/627), done.\n",
            "Updating files: 100% (222/222), done.\n"
          ]
        }
      ]
    },
    {
      "cell_type": "code",
      "source": [
        "work_directory_COL = '/content/MD-SCPI/PDBs/MD/COL/data'\n",
        "work_directory_AS4 = '/content/MD-SCPI/PDBs/MD/AS4/data'\n",
        "work_directory_STR = '/content/MD-SCPI/PDBs/MD/STR/data'\n",
        "\n",
        "files = os.listdir(work_directory_AS4)\n",
        "ligand_files = np.array([file for file in files if 'ligand' in file])\n",
        "[print(i, ligand_files[i]) for i in range(ligand_files.size)];\n",
        "\n",
        "ligand_files_interesting = ['ligand-protein.dat', 'ligand-environment.dat', 'ligand-ARG92.dat', 'ligand-ASN45.dat', 'ligand-GLN51.dat', 'ligand-THR220.dat']\n",
        "colors = ['black', 'blue', 'green', 'red', 'orange', 'purple']\n",
        "\n",
        "dt = 0.002*1e3  # ste time in ns"
      ],
      "metadata": {
        "colab": {
          "base_uri": "https://localhost:8080/"
        },
        "id": "tcjN-Yp_M7Tn",
        "outputId": "7a17a692-6de5-4765-b82f-59ef58295c88"
      },
      "execution_count": 4,
      "outputs": [
        {
          "output_type": "stream",
          "name": "stdout",
          "text": [
            "0 ligand-SER118.dat\n",
            "1 ligand-ASN45.dat\n",
            "2 ligand-environment.dat\n",
            "3 ligand-THR220.dat\n",
            "4 ligand-GLN51.dat\n",
            "5 ligand-solvent.dat\n",
            "6 ligand-protein.dat\n",
            "7 ligand-SER85.dat\n",
            "8 ligand-ARG92.dat\n",
            "9 ligand-HH22.dat\n"
          ]
        }
      ]
    },
    {
      "cell_type": "code",
      "source": [
        "# plt.close()\n",
        "# energies = pd.DataFrame()\n",
        "\n",
        "# for file in ligand_files_interesting:\n",
        "#   data=js.dA(os.path.join(work_directory_AS4, file)) # , ignore='#'\n",
        "#   energy = pd.DataFrame({'time':data.X/dt, 'energy':data.Y + data.eY, 'with':[file[7:-4]]*data.Y.size})\n",
        "#   energies = energies.append(energy, ignore_index=True)\n",
        "\n",
        "# g = sb.jointplot(data=energies, x=\"time\", y=\"energy\", hue=\"with\", xlim=(-2,502), height=10, ratio=4) #marginal_kws=dict(bins=30))\n",
        "# g.ax_marg_x.remove()"
      ],
      "metadata": {
        "id": "FYSepW6hRPPU"
      },
      "execution_count": null,
      "outputs": []
    },
    {
      "cell_type": "code",
      "source": [
        "def RemoveBox(ax):\n",
        "  ax.spines['top'].set_visible(False)\n",
        "  ax.spines['right'].set_visible(False)\n",
        "  ax.spines['bottom'].set_visible(False)\n",
        "  ax.spines['left'].set_visible(False)\n",
        "\n",
        "def PlotEnergies(work_directories, figsize=(33,16), bins=100, bins_cum=50):\n",
        "  plt.close()\n",
        "  fig = plt.figure(figsize=figsize)\n",
        "  gs0 = gridspec.GridSpec(2, 3, figure=fig)\n",
        "\n",
        "  # ----------------------------------------- cortisol -----------------------------------------\n",
        "  gs00 = gridspec.GridSpecFromSubplotSpec(1, 3, subplot_spec=gs0[0,0], wspace=0.025)\n",
        "  ax_main = plt.subplot(gs00[0:2, :2])\n",
        "  ax_main.grid(True)\n",
        "  ax_yDist = plt.subplot(gs00[:1, 2],sharey=ax_main)\n",
        "\n",
        "  c=0\n",
        "  for i in range(len(ligand_files_interesting)):\n",
        "    data=js.dA(os.path.join(work_directories[0], ligand_files_interesting[i])) \n",
        "    x, y = data.X/dt, data.Y + data.eY\n",
        "    ax_main.plot(x,y,'-', label=ligand_files_interesting[i][7:-4], color=colors[i])\n",
        "    \n",
        "    \n",
        "    #ax_yDist.hist(y,bins=bins,orientation='horizontal', align='mid', label=file[7:-4], stacked=False, density=True, color=colors[c])\n",
        "    ax_yCumDist = ax_yDist.twiny()\n",
        "    ax_yCumDist.hist(y,bins=bins_cum,cumulative=False,histtype='step',density=True,color=colors[i],align='mid',orientation='horizontal', lw=2)\n",
        "    \n",
        "    ax_yCumDist.tick_params(top=False, labeltop=False, left=False, labelleft=False)\n",
        "    ax_yDist.tick_params(top=False, labeltop=False, left=False, labelleft=False)\n",
        "    \n",
        "    c+=1\n",
        "\n",
        "  ax_main.text(-180, -60, 'WT', fontsize='22', fontweight='bold', rotation=90)\n",
        "  ax_main.text(-180, -210, 'S810L', fontsize='22', fontweight='bold', rotation=90)\n",
        "\n",
        "  ax_main.set_title('             Aldosterno (AS4)', fontweight='normal', fontsize='20', pad=20)\n",
        "  ax_main.set_xlabel(\"Time (ns)\", fontsize='16')\n",
        "  ax_main.set_ylabel(\"Energy (kcal/mol)\", fontsize='16')\n",
        "  #ax_main.legend(bbox_to_anchor=(1.75, .5), title='With', fontsize='14', title_fontsize='16', borderaxespad=0.)\n",
        "\n",
        "  #ax_yDist.set(xlabel='count')\n",
        "  #ax_yCumDist.tick_params('x', colors='r')\n",
        "  #ax_yCumDist.set_xlabel('cumulative',color='r')\n",
        "\n",
        "  # ----------------------------------------- aldosterone -----------------------------------------\n",
        "  gs01 = gs0[0,1].subgridspec(1, 3, wspace=0.05)\n",
        "  ax_main_1 = plt.subplot(gs01[0:2, :2])\n",
        "  ax_yDist_1 = plt.subplot(gs01[:1, 2],sharey=ax_main_1)\n",
        "  ax_main_1.grid(True)\n",
        "\n",
        "  for i in range(len(ligand_files_interesting)):\n",
        "    data=js.dA(os.path.join(work_directories[1], ligand_files_interesting[i])) \n",
        "    x, y = data.X/dt, data.Y + data.eY\n",
        "    ax_main_1.plot(x,y,'-', label=ligand_files_interesting[i][7:-4], color=colors[i])\n",
        "\n",
        "    #ax_yDist_1.hist(y,bins=bins,orientation='horizontal', align='mid', label=file[7:-4], stacked=False, density=True, color=colors[c])\n",
        "    ax_yCumDist_1 = ax_yDist_1.twiny()\n",
        "    ax_yCumDist_1.hist(y,bins=bins_cum,cumulative=False,histtype='step',density=True,color=colors[i],align='mid',orientation='horizontal', lw=2)\n",
        "    \n",
        "    ax_yCumDist_1.tick_params(top=False, labeltop=False, left=False, labelleft=False, bottom=False, labelbottom=False)\n",
        "    ax_yDist_1.tick_params(top=False, labeltop=False, left=False, labelleft=False, bottom=False, labelbottom=False)\n",
        "\n",
        "    RemoveBox(ax_yDist_1); RemoveBox(ax_yCumDist_1);\n",
        "\n",
        "  ax_main_1.set_title('            Cortisol (COL)', fontweight='normal', fontsize='20', pad=15)\n",
        "  ax_main_1.set_xlabel(\"Time (ns)\", fontsize='16')\n",
        "  ax_main_1.sharey(ax_main); ax_main_1.sharex(ax_main)\n",
        "  #ax_yDist_1.axis('off');    ax_yCumDist_1.axis('off')\n",
        "  \n",
        "  #ax_main.set_ylabel(\"Total Energy (kcal/mol)\", fontsize='16')\n",
        "\n",
        "  #ax_main_1.legend(bbox_to_anchor=(1.9, .6), title='$\\\\bf{With:}$', fontsize='14', title_fontsize='16', borderaxespad=0.)\n",
        "\n",
        "  # ----------------------------------------- progesterone -----------------------------------------\n",
        "  gs01 = gs0[0,2].subgridspec(1, 3, wspace=0.05)\n",
        "  ax_main_4 = plt.subplot(gs01[0:2, :2])\n",
        "  ax_yDist_4 = plt.subplot(gs01[:1, 2],sharey=ax_main_4)\n",
        "  ax_main_4.grid(True)\n",
        "\n",
        "  for i in range(len(ligand_files_interesting)):\n",
        "    data=js.dA(os.path.join(work_directories[1], ligand_files_interesting[i])) \n",
        "    x, y = data.X/dt, data.Y + data.eY\n",
        "    ax_main_4.plot(x,y,'-', label=ligand_files_interesting[i][7:-4], color=colors[i])\n",
        "\n",
        "    #ax_yDist_4.hist(y,bins=bins,orientation='horizontal', align='mid', label=file[7:-4], stacked=False, density=True, color=colors[c])\n",
        "    ax_yCumDist_4 = ax_yDist_4.twiny()\n",
        "    ax_yCumDist_4.hist(y,bins=bins_cum,cumulative=False,histtype='step',density=True,color=colors[i],align='mid',orientation='horizontal', lw=2)\n",
        "    \n",
        "    ax_yCumDist_4.tick_params(top=False, labeltop=False, left=False, labelleft=False, bottom=False, labelbottom=False)\n",
        "    ax_yDist_4.tick_params(top=False, labeltop=False, left=False, labelleft=False, bottom=False, labelbottom=False)\n",
        "\n",
        "    RemoveBox(ax_yDist_4); RemoveBox(ax_yCumDist_4);\n",
        "\n",
        "  ax_main_4.set_title('            Progesterone (STR)', fontweight='normal', fontsize='20', pad=15)\n",
        "  ax_main_4.set_xlabel(\"Time (ns)\", fontsize='16')\n",
        "  ax_main_4.sharey(ax_main); ax_main_4.sharex(ax_main)\n",
        "  #ax_yDist_1.axis('off');    ax_yCumDist_1.axis('off')\n",
        "  \n",
        "  #ax_main.set_ylabel(\"Total Energy (kcal/mol)\", fontsize='16')\n",
        "\n",
        "  ax_main_1.legend(bbox_to_anchor=(1.95, .6), title='$\\\\bf{With:}$', fontsize='14', title_fontsize='16', borderaxespad=0.)\n",
        "\n",
        "  ##########################################################################################################################################\n",
        "  # ----------------------------------------- MUTATIONS -----------------------------------------\n",
        "  ##########################################################################################################################################\n",
        "  # ----------------------------------------- cortisol -----------------------------------------\n",
        "  gs00 = gridspec.GridSpecFromSubplotSpec(1, 3, subplot_spec=gs0[1,0], wspace=0.05)\n",
        "  ax_main_2 = plt.subplot(gs00[0:2, :2])\n",
        "  ax_main_2.grid(True)\n",
        "\n",
        "  ax_yDist_2 = plt.subplot(gs00[:1, 2],sharey=ax_main_2)\n",
        "\n",
        "  for i in range(len(ligand_files_interesting)):\n",
        "  #   data=js.dA(os.path.join(work_directories[2], ligand_files_interesting[i])) \n",
        "  #   x, y = data.X/dt, data.Y + data.eY\n",
        "  #   ax_main_2.plot(x,y,'-', label=ligand_files_interesting[i][7:-4], color=colors[c])\n",
        "\n",
        "  #   ax_yDist_2.hist(y,bins=bins,orientation='horizontal', align='mid', label=file[7:-4], stacked=False, density=True, color=colors[c])\n",
        "  #  ax_yCumDist_2 = ax_yDist_2.twiny()\n",
        "  #   ax_yCumDist_2.hist(y,bins=bins_cum,cumulative=False,histtype='step',density=True,color=colors[i],align='mid',orientation='horizontal', lw=2)\n",
        "    \n",
        "  #  ax_yCumDist_2.tick_params(top=False, labeltop=False, left=False, labelleft=False)\n",
        "    ax_yDist_2.tick_params(top=False, labeltop=False, left=False, labelleft=False)\n",
        "    \n",
        "\n",
        "  #ax_main_2.set_title('             Aldosterno (AS4)', fontweight='normal', fontsize='20')\n",
        "  ax_main_2.set_xlabel(\"Time (ns)\", fontsize='16')\n",
        "  ax_main_2.set_ylabel(\"Energy (kcal/mol)\", fontsize='16')\n",
        "  #ax_main.legend(bbox_to_anchor=(1.75, .5), title='With', fontsize='14', title_fontsize='16', borderaxespad=0.)\n",
        "\n",
        "  #ax_yDist.set(xlabel='count')\n",
        "  #ax_yCumDist.tick_params('x', colors='r')\n",
        "  #ax_yCumDist.set_xlabel('cumulative',color='r')\n",
        "\n",
        "  # ----------------------------------------- aldosterone -----------------------------------------\n",
        "  gs01 = gs0[1,1].subgridspec(1, 3, wspace=0.05)\n",
        "  ax_main_3 = plt.subplot(gs01[0:2, :2])\n",
        "  ax_yDist_3 = plt.subplot(gs01[:1, 2],sharey=ax_main_1)\n",
        "  ax_main_3.grid(True)\n",
        "\n",
        "  for i in range(len(ligand_files_interesting)):\n",
        "  #   data=js.dA(os.path.join(work_directories[3], ligand_files_interesting[i])) \n",
        "  #   x, y = data.X/dt, data.Y + data.eY\n",
        "  #   ax_main_3.plot(x,y, '-', label=ligand_files_interesting[i][7:-4], color=colors[i])\n",
        "\n",
        "  #   #ax_yDist_3.hist(y,bins=bins,orientation='horizontal', align='mid', label=file[7:-4], stacked=False, density=True, color=colors[c])\n",
        "  #   ax_yCumDist_3 = ax_yDist_1.twiny()\n",
        "  #   ax_yCumDist_3.hist(y,bins=bins_cum,cumulative=False,histtype='step',density=True,color=colors[i],align='mid',orientation='horizontal', lw=2)\n",
        "    \n",
        "   # ax_yCumDist_3.tick_params(top=False, labeltop=False, left=False, labelleft=False, bottom=False, labelbottom=False)\n",
        "    ax_yDist_3.tick_params(top=False, labeltop=False, left=False, labelleft=False, bottom=False, labelbottom=False)\n",
        "\n",
        "    RemoveBox(ax_yDist_3); #RemoveBox(ax_yCumDist_3);\n",
        "\n",
        "  #ax_main_3.set_title('            Cortisol (COL)', fontweight='normal', fontsize='20')\n",
        "  ax_main_3.set_xlabel(\"Time (ns)\", fontsize='16')\n",
        "  ax_main_3.sharey(ax_main)\n",
        "\n",
        "\n",
        "  # ----------------------------------------- progesterone -----------------------------------------\n",
        "  gs01 = gs0[1,2].subgridspec(1, 3, wspace=0.05)\n",
        "  ax_main_5 = plt.subplot(gs01[0:2, :2])\n",
        "  ax_yDist_5 = plt.subplot(gs01[:1, 2],sharey=ax_main_1)\n",
        "  ax_main_5.grid(True)\n",
        "\n",
        "  for i in range(len(ligand_files_interesting)):\n",
        "  #   data=js.dA(os.path.join(work_directories[3], ligand_files_interesting[i])) \n",
        "  #   x, y = data.X/dt, data.Y + data.eY\n",
        "  #   ax_main_5.plot(x,y, '-', label=ligand_files_interesting[i][7:-4], color=colors[i])\n",
        "\n",
        "  #   #ax_yDist_5.hist(y,bins=bins,orientation='horizontal', align='mid', label=file[7:-4], stacked=False, density=True, color=colors[c])\n",
        "  #   ax_yCumDist_5 = ax_yDist_5.twiny()\n",
        "  #   ax_yCumDist_5.hist(y,bins=bins_cum,cumulative=False,histtype='step',density=True,color=colors[i],align='mid',orientation='horizontal', lw=2)\n",
        "    \n",
        "   # ax_yCumDist_5.tick_params(top=False, labeltop=False, left=False, labelleft=False, bottom=False, labelbottom=False)\n",
        "    ax_yDist_5.tick_params(top=False, labeltop=False, left=False, labelleft=False, bottom=False, labelbottom=False)\n",
        "\n",
        "    RemoveBox(ax_yDist_5); #RemoveBox(ax_yCumDist_5);\n",
        "\n",
        "  #ax_main_5.set_title('            Cortisol (COL)', fontweight='normal', fontsize='20')\n",
        "  ax_main_5.set_xlabel(\"Time (ns)\", fontsize='16')\n",
        "  ax_main_5.sharey(ax_main)\n",
        "\n",
        "\n",
        "\n",
        "  \n",
        "  plt.suptitle('TOTAL ENERGIES MINERALOCORTICOID (MR)', fontweight='bold', fontsize='26') #for MR Ligand Systems\n",
        "  plt.show()   #fig.tight_layout()\n",
        "  return fig\n",
        "\n",
        "PlotEnergies([work_directory_COL, work_directory_AS4, work_directory_STR], bins=100, bins_cum=50);"
      ],
      "metadata": {
        "colab": {
          "base_uri": "https://localhost:8080/",
          "height": 208
        },
        "id": "Z_S5EtR4YLcT",
        "outputId": "83c2d343-d68f-4b06-d056-af0e700c80d6"
      },
      "execution_count": 1,
      "outputs": [
        {
          "output_type": "error",
          "ename": "NameError",
          "evalue": "ignored",
          "traceback": [
            "\u001b[0;31m---------------------------------------------------------------------------\u001b[0m",
            "\u001b[0;31mNameError\u001b[0m                                 Traceback (most recent call last)",
            "\u001b[0;32m<ipython-input-1-26a06823b7f2>\u001b[0m in \u001b[0;36m<module>\u001b[0;34m\u001b[0m\n\u001b[1;32m    190\u001b[0m   \u001b[0;32mreturn\u001b[0m \u001b[0mfig\u001b[0m\u001b[0;34m\u001b[0m\u001b[0;34m\u001b[0m\u001b[0m\n\u001b[1;32m    191\u001b[0m \u001b[0;34m\u001b[0m\u001b[0m\n\u001b[0;32m--> 192\u001b[0;31m \u001b[0mPlotEnergies\u001b[0m\u001b[0;34m(\u001b[0m\u001b[0;34m[\u001b[0m\u001b[0mwork_directory_COL\u001b[0m\u001b[0;34m,\u001b[0m \u001b[0mwork_directory_AS4\u001b[0m\u001b[0;34m,\u001b[0m \u001b[0mwork_directory_STR\u001b[0m\u001b[0;34m]\u001b[0m\u001b[0;34m,\u001b[0m \u001b[0mbins\u001b[0m\u001b[0;34m=\u001b[0m\u001b[0;36m100\u001b[0m\u001b[0;34m,\u001b[0m \u001b[0mbins_cum\u001b[0m\u001b[0;34m=\u001b[0m\u001b[0;36m50\u001b[0m\u001b[0;34m)\u001b[0m\u001b[0;34m;\u001b[0m\u001b[0;34m\u001b[0m\u001b[0;34m\u001b[0m\u001b[0m\n\u001b[0m",
            "\u001b[0;31mNameError\u001b[0m: name 'work_directory_COL' is not defined"
          ]
        }
      ]
    },
    {
      "cell_type": "code",
      "source": [
        "def PlotsEnergies(work_directory_AS4, work_directory_COL):\n",
        "\n",
        "  plt.close()\n",
        "  fig, axs = plt.subplots(1,2,figsize=(20,8))\n",
        "\n",
        "  # -------------- aldosterone -------------------------\n",
        "  c = 0\n",
        "  for file in ligand_files_interesting:\n",
        "    data=js.dA(os.path.join(work_directory_AS4, file)) # , ignore='#'\n",
        "    axs[0].plot(data.X/dt, data.Y + data.eY, label=file[7:-4], color=colors[c])\n",
        "    c+=1\n",
        "\n",
        "  axs[0].set_xlabel('Time (ns)', fontsize='14')\n",
        "  axs[0].set_ylabel('Kcal/mol', fontsize='14')\n",
        "  axs[0].set_title('Aldosterno (AS4)', fontweight='normal', fontsize='20')\n",
        "  axs[0].set_ylim((-110, 10)); #axs[0].set_xlim((-0.02, 502))\n",
        "\n",
        "  # ------------------ cortisol --------------------------\n",
        "  c=0\n",
        "  for file in ligand_files_interesting:\n",
        "    data=js.dA(os.path.join(work_directory_COL, file)) # , ignore='#'\n",
        "    axs[1].plot(data.X/dt, data.Y + data.eY, label=file[7:-4], color=colors[c])\n",
        "    c+=1\n",
        "\n",
        "  axs[1].set_xlabel('Time (ns)', fontsize='14')\n",
        "  axs[1].set_ylabel('Kcal/mol', fontsize='14')\n",
        "  legend = axs[1].legend(bbox_to_anchor=(1.2, .75), title='With', fontsize='14', title_fontsize='16', borderaxespad=0.) \n",
        "  axs[1].set_title('Cortisol (COL)', fontweight='normal', fontsize='20')\n",
        "  #axs[1].set_ylim((-110, 10)); axs[1].set_xlim((-5, 1005))\n",
        "\n",
        "  axs[1].sharey(axs[0]); axs[1].sharex(axs[0]) # share x and y axis\n",
        "\n",
        "  #plt.rcParams['legend.title_fontweight'] = 'bold'\n",
        "\n",
        "  # axs[1].legend(loc=\"lower left\", ncol=len(ligand_files_interesting), bbox_to_anchor=(0, .0))#bbox_to_anchor=(1.25, .75), title='Residue', fontsize='14', title_fontsize='16')#, borderaxespad=0.) # \n",
        "  plt.suptitle('Total Energies for MR Ligand', fontweight='bold', fontsize='24')\n",
        "  fig.tight_layout()\n",
        "  plt.show()\n",
        "\n",
        "  return fig"
      ],
      "metadata": {
        "id": "nqu01jbYOI4-"
      },
      "execution_count": null,
      "outputs": []
    },
    {
      "cell_type": "code",
      "source": [
        "#sb.jointplot(data=penguins, x=\"bill_length_mm\", y=\"bill_depth_mm\", hue=\"species\")"
      ],
      "metadata": {
        "id": "ewQngl11RBAl"
      },
      "execution_count": null,
      "outputs": []
    },
    {
      "cell_type": "code",
      "source": [
        "interaction = 'ligand-ASN45.dat'\n",
        "\n",
        "def PlotAllEnergies(interaction):\n",
        "  data=js.dA(os.path.join(work_directory_AS4, interaction), ignore='#')\n",
        "\n",
        "  fig = plt.figure(figsize=(11,6))\n",
        "  plt.plot(data.X, data.Y, label='Elec')\n",
        "  plt.plot(data.X, data.eY, label=\"VDW\")\n",
        "  plt.plot(data.X, data.Y + data.eY, label='Total')\n",
        "  plt.xlabel('Frame'); plt.ylabel('K Cal')\n",
        "  plt.legend(bbox_to_anchor=(1.05, .5), title='Energy0')\n",
        "  plt.title('Energies of ligand-ASN45.dat', fontweight='bold', fontsize='18')\n",
        "  \n",
        "  plt.show()\n",
        "\n",
        "  return fig"
      ],
      "metadata": {
        "id": "gul7jMbO_1aj"
      },
      "execution_count": null,
      "outputs": []
    },
    {
      "cell_type": "code",
      "source": [
        "#help(data)"
      ],
      "metadata": {
        "id": "l8nlhLSx8C3E"
      },
      "execution_count": null,
      "outputs": []
    },
    {
      "cell_type": "code",
      "source": [
        "#p=js.mplot()\n",
        "#p.plot(data)"
      ],
      "metadata": {
        "id": "YlL0nqru7HPk"
      },
      "execution_count": null,
      "outputs": []
    },
    {
      "cell_type": "code",
      "source": [],
      "metadata": {
        "id": "QoepGv8QB6jv"
      },
      "execution_count": null,
      "outputs": []
    }
  ]
}