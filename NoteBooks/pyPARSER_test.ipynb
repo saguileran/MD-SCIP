{
  "nbformat": 4,
  "nbformat_minor": 0,
  "metadata": {
    "colab": {
      "provenance": [],
      "include_colab_link": true
    },
    "kernelspec": {
      "name": "python3",
      "display_name": "Python 3"
    },
    "language_info": {
      "name": "python"
    }
  },
  "cells": [
    {
      "cell_type": "markdown",
      "metadata": {
        "id": "view-in-github",
        "colab_type": "text"
      },
      "source": [
        "<a href=\"https://colab.research.google.com/github/saguileran/MD-SCPI/blob/main/NoteBooks/pyPARSER_test.ipynb\" target=\"_parent\"><img src=\"https://colab.research.google.com/assets/colab-badge.svg\" alt=\"Open In Colab\"/></a>"
      ]
    },
    {
      "cell_type": "markdown",
      "source": [
        "# **Install Conda Colab**"
      ],
      "metadata": {
        "id": "VvbbASGT0OW6"
      }
    },
    {
      "cell_type": "code",
      "source": [
        "#It will restart the kernel (session), don't worry.\n",
        "!pip install -q condacolab\n",
        "import condacolab\n",
        "condacolab.install()"
      ],
      "metadata": {
        "id": "JVxNkXKW0NY9",
        "outputId": "d8c7428f-eb6a-41f5-9ce1-ae932bb2e022",
        "colab": {
          "base_uri": "https://localhost:8080/"
        }
      },
      "execution_count": 1,
      "outputs": [
        {
          "output_type": "stream",
          "name": "stdout",
          "text": [
            "⏬ Downloading https://github.com/jaimergp/miniforge/releases/latest/download/Mambaforge-colab-Linux-x86_64.sh...\n",
            "📦 Installing...\n",
            "📌 Adjusting configuration...\n",
            "🩹 Patching environment...\n",
            "⏲ Done in 0:00:32\n",
            "🔁 Restarting kernel...\n"
          ]
        }
      ]
    },
    {
      "cell_type": "markdown",
      "source": [
        "install dependecies"
      ],
      "metadata": {
        "id": "ZhNXKFV42zFB"
      }
    },
    {
      "cell_type": "code",
      "source": [
        "%%capture\n",
        "import sys\n",
        "!pip -q install py3Dmol\n",
        "!pip install git+https://github.com/pablo-arantes/biopandas\n",
        "!mamba install openmmforcefields -c conda-forge -y\n",
        "!git clone https://github.com/pablo-arantes/ProLIF.git\n",
        "prolif1 = \"cd /content/ProLIF\"\n",
        "prolif2 = \"sed -i 's/mdanalysis.*/mdanalysis==2.0.0/' setup.cfg\"\n",
        "prolif3 = \"pip install .\"\n",
        "\n",
        "original_stdout = sys.stdout # Save a reference to the original standard output\n",
        "\n",
        "with open('prolif.sh', 'w') as f:\n",
        "    sys.stdout = f # Change the standard output to the file we created.\n",
        "    print(prolif1)\n",
        "    print(prolif2)\n",
        "    print(prolif3)\n",
        "    sys.stdout = original_stdout # Reset the standard output to its original value\n",
        "\n",
        "!chmod 700 prolif.sh 2>&1 1>/dev/null\n",
        "!bash prolif.sh >/dev/null 2>&1\n",
        "!mamba install -c conda-forge openbabel -y\n",
        "!mamba install -c conda-forge ambertools -y\n",
        "!mamba install -c conda-forge parmed -y\n",
        "!pip install --upgrade MDAnalysis\n",
        "\n",
        "#load dependencies\n",
        "from openmm import app, unit\n",
        "from openmm.app import HBonds, NoCutoff, PDBFile\n",
        "from openff.toolkit.topology import Molecule, Topology\n",
        "from openff.toolkit.typing.engines.smirnoff import ForceField\n",
        "from openff.toolkit.utils import get_data_file_path\n",
        "import parmed as pmd\n",
        "from biopandas.pdb import PandasPdb\n",
        "import openmm as mm\n",
        "from openmm import *\n",
        "from openmm.app import *\n",
        "from openmm.unit import *\n",
        "import os\n",
        "import urllib.request  \n",
        "import numpy as np\n",
        "import MDAnalysis as mda\n",
        "import py3Dmol\n",
        "import pytraj as pt\n",
        "import platform\n",
        "import scipy.cluster.hierarchy\n",
        "from scipy.spatial.distance import squareform\n",
        "import scipy.stats as stats\n",
        "import matplotlib.pyplot as plt\n",
        "import pandas as pd\n",
        "from scipy.interpolate import griddata\n",
        "import seaborn as sb\n",
        "from statistics import mean, stdev\n",
        "from pytraj import matrix\n",
        "from matplotlib import colors\n",
        "from IPython.display import set_matplotlib_formats\n",
        "!wget  https://raw.githubusercontent.com/openforcefield/openff-forcefields/master/openforcefields/offxml/openff_unconstrained-2.0.0.offxml"
      ],
      "metadata": {
        "id": "gdV5fAft0PNC"
      },
      "execution_count": 1,
      "outputs": []
    },
    {
      "cell_type": "code",
      "source": [
        "# Import Google Drive\n",
        "from google.colab import drive\n",
        "\n",
        "drive.flush_and_unmount()\n",
        "drive.mount('/content/drive', force_remount=True)"
      ],
      "metadata": {
        "id": "VuN55ROG0PPi",
        "outputId": "526db793-41fa-4b90-bffe-28802b2e0251",
        "colab": {
          "base_uri": "https://localhost:8080/"
        }
      },
      "execution_count": 2,
      "outputs": [
        {
          "output_type": "stream",
          "name": "stdout",
          "text": [
            "Drive not mounted, so nothing to flush and unmount.\n",
            "Mounted at /content/drive\n"
          ]
        }
      ]
    },
    {
      "cell_type": "code",
      "source": [
        "%%capture\n",
        "import rdkit\n",
        "import mdtraj as md\n",
        "from rdkit import Chem\n",
        "from rdkit.Chem import AllChem,Draw\n",
        "from rdkit.Chem.Draw import IPythonConsole\n",
        "from openbabel import pybel\n",
        "\n",
        "Protein_PDB_file_name = 'MR.pdb'\n",
        "Ligand_PDB_file_name = 'AS4.pdb'\n",
        "\n",
        "Ligand_Protein_PDB_file_name = 'MR-AS4_leap.pdb'\n",
        "Ligand_Protein_prmtop_file_name = 'MR-AS4.prmtop'\n",
        "Ligand_Protein_inpcrd_file_name = 'MR-AS4.inpcrd'\n",
        "Ligand_Protein_nc_file_name = 'prod.nc'\n",
        "\n",
        "\n",
        "ligand_name = Ligand_PDB_file_name\n",
        "workDir = '/content/drive/MyDrive/MolecularDynamics_2023/USP/pyLiBELa/' \n",
        "file_name = os.path.join(workDir, str(Protein_PDB_file_name)) \n",
        "\n",
        "nc_name = os.path.join(workDir, str(Ligand_Protein_nc_file_name)) \n",
        "param_name = os.path.join(workDir, str(Ligand_Protein_prmtop_file_name)) \n",
        "\n",
        "\n",
        "ligand_pdb = os.path.join(workDir, str(ligand_name))\n",
        "ligand_pdb2 = os.path.join(workDir, \"ligand_H.pdb\")\n",
        "#initial_pdb = os.path.join(workDir, \"starting0.pdb\")\n",
        "#starting = os.path.join(workDir, \"starting1.pdb\")\n",
        "#starting2 = os.path.join(workDir, \"starting2.pdb\")\n",
        "#starting_end = os.path.join(workDir, \"starting_end.pdb\")"
      ],
      "metadata": {
        "id": "cuWZ9KUm0t1b"
      },
      "execution_count": 16,
      "outputs": []
    },
    {
      "cell_type": "code",
      "source": [
        "import pytraj as pt\n",
        "traj = pt.iterload(nc_name, param_name)\n",
        "pt.rmsd(traj, mask='@CA', ref=0)\n",
        "pt.dssp(traj, mask=':2-16')\n",
        "pt.pca(traj, mask='!@H=', n_vecs=2)"
      ],
      "metadata": {
        "id": "T2-UxR-y3387"
      },
      "execution_count": null,
      "outputs": []
    },
    {
      "cell_type": "markdown",
      "source": [
        "# MD Analysis\n",
        "\n",
        "\n",
        "Although visualizing your trajectory can be quite useful, sometimes you also want more quantitative data.\n",
        "\n",
        "Analyses of MD trajectories vary a lot and we do not intend to cover it all here. However, one can make use of MDanalysis or PyTraj to easily analyze simulations. \n",
        "\n",
        "Below, you can find a few examples of code snippets that can help you to shed some light on your simulation behavior."
      ],
      "metadata": {
        "id": "177zjalm3lbZ"
      }
    },
    {
      "cell_type": "code",
      "source": [
        "#@title **MM-PBSA method to calculate the binding free energy**\n",
        "#@markdown **Important:** We will now calculate the interaction energy and solvation free energy for the complex, receptor and ligand and average the results to obtain an estimate of the binding free energy. Please note that we will not perform a calculation of the entropy contribution to binding and so strictly speaking our result will not be a true free energy but could be used to compare against similar systems. We will carry out the binding energy calculation using both the MM-GBSA method and the MM-PBSA method for comparison.\n",
        "\n",
        "#@markdown Select the GB/SA input parameters,  the \"OBC\" models (igb=2 and 5) are newer, but appear to give significant improvements and are recommended for most projects (For more information check the Section 4.1 of the [Amber Manual](https://ambermd.org/doc12/Amber20.pdf)):\n",
        "igb = \"2\" #@param [\"1\", \"2\", \"5\", \"7\", \"8\"]\n",
        "\n",
        "if igb == \"1\":\n",
        "  mbondi = 'mbondi'\n",
        "elif igb == \"2\" or igb == \"5\":\n",
        "  mbondi = 'mbondi2'\n",
        "elif igb == \"7\":\n",
        "  mbondi = 'bondi'\n",
        "elif igb == \"8\":\n",
        "  mbondi = 'mbondi3'\n",
        "else:\n",
        "  pass\n",
        "\n",
        "Salt_concentration = '0.15' #@param {type:\"string\"}\n",
        "fold_MMPBSA = \"MMPBSA_igb_\" + igb \n",
        "#@markdown **Provide output file names below:** \n",
        "Output_name = 'FINAL_RESULTS_MMPBSA' #@param {type:\"string\"}\n",
        "\n",
        "final_mmpbsa = os.path.join(workDir, Output_name)\n",
        "\n",
        "if number_frames_analysis > 10:\n",
        "  stride = number_frames_analysis/10\n",
        "else:\n",
        "  stride = 1\n",
        "\n",
        "f = open(\"mmpbsa.in\", \"w\")\n",
        "f.write(\"\"\"&general \"\"\"  + \"\\n\"\n",
        "\"\"\"  endframe=\"\"\" + str(int(number_frames_analysis)) + \"\"\",  interval=\"\"\" + str(int(stride)) + \"\"\", strip_mask=:WAT:Na+:Cl-:Mg+:K+, \"\"\" + \"\\n\"\n",
        "\"\"\"/ \"\"\" + \"\\n\"\n",
        "\"\"\"&gb \"\"\" + \"\\n\"\n",
        "\"\"\" igb=\"\"\" + str(igb) +  \"\"\", saltcon=\"\"\" + str(Salt_concentration) +  \"\"\", \"\"\" + \"\\n\"\n",
        "\"\"\"/ \"\"\" + \"\\n\"\n",
        "\"\"\"&pb \"\"\" + \"\\n\"\n",
        "\"\"\" istrng=\"\"\" + str(Salt_concentration) +  \"\"\", inp=2, radiopt=0, prbrad=1.4, \"\"\" + \"\\n\"\n",
        "\"\"\"/\"\"\")\n",
        "f.close()\n",
        "\n",
        "amberhome = \"source /usr/local/amber.sh\"\n",
        "ante_MMPBSA = \"ante-MMPBSA.py  -p \" + str(pdb_ref) + \" -c com.prmtop -r rec.prmtop -l ligand.prmtop -s :WAT:Na+:Cl-:Mg+:K+ -n :LIG --radii \" + str(mbondi) \n",
        "MMPBSA = \"MMPBSA.py -O -i mmpbsa.in -o \" + str(final_mmpbsa) +  \".dat -sp \" + str(pdb_ref) + \" -cp com.prmtop -rp rec.prmtop -lp ligand.prmtop -y \"  + str(traj)\n",
        "mkdir = \"mkdir \" + os.path.join(workDir, fold_MMPBSA)\n",
        "mv = \"mv _MMPBSA* com.prmtop rec.prmtop ligand.prmtop reference.frc mmpbsa.in \" + os.path.join(workDir, fold_MMPBSA)\n",
        "\n",
        "original_stdout = sys.stdout # Save a reference to the original standard output\n",
        "\n",
        "with open('run_MMPBSA.sh', 'w') as f:\n",
        "    sys.stdout = f # Change the standard output to the file we created.\n",
        "    print(amberhome)\n",
        "    print(ante_MMPBSA)\n",
        "    print(MMPBSA)\n",
        "    print(mkdir)\n",
        "    print(mv)\n",
        "    sys.stdout = original_stdout # Reset the standard output to its original value\n",
        "\n",
        "!chmod 700 run_MMPBSA.sh 2>&1 1>/dev/null\n",
        "!bash run_MMPBSA.sh 2>&1 1>/dev/null\n",
        "\n",
        "f_mmpbsa = open(final_mmpbsa + '.dat', 'r')\n",
        "file_contents = f_mmpbsa.read()\n",
        "print(file_contents)\n",
        "f_mmpbsa.close()"
      ],
      "metadata": {
        "cellView": "form",
        "id": "7agzK7_f0t31",
        "outputId": "d99e1d5f-2c53-44e3-9221-1d71b1d21b14",
        "colab": {
          "base_uri": "https://localhost:8080/"
        }
      },
      "execution_count": 15,
      "outputs": [
        {
          "output_type": "execute_result",
          "data": {
            "text/plain": [
              "<module 'pytraj' from '/usr/local/lib/python3.8/site-packages/pytraj/__init__.py'>"
            ]
          },
          "metadata": {},
          "execution_count": 15
        }
      ]
    },
    {
      "cell_type": "code",
      "source": [
        "#@title **Interaction Energy**\n",
        "#@markdown **Important:** To quantify the strength of the interaction between the ligand and the protein, we will compute the nonbonded interaction energy between these two species.  It is important to note that this quantity is NOT a free energy or a binding energy. \n",
        "\n",
        "#@markdown **Provide output file names below:** \n",
        "Output_name = 'Interaction_energy' #@param {type:\"string\"}\n",
        "\n",
        "pt_topology = traj_load.top\n",
        "restraint_array = pt.select_atoms('!(:WAT) & !(:Na+) & !(:Cl-) & !(:Mg+) & !(:K+) & !(:LIG)', pt_topology)\n",
        "first_atom = restraint_array[0]\n",
        "last_atom = restraint_array[-1]\n",
        "mask = \"LIE :LIG @\" + str(first_atom+1) + \"-\" + str(last_atom+1)\n",
        "\n",
        "lie = pt.analysis.energy_analysis.lie(traj_load, mask=mask, options='cutvdw 12.0 cutelec 12.0 diel 2.0', dtype='dict')\n",
        "\n",
        "lie_elec = lie['LIE[EELEC]']\n",
        "lie_vdw = lie['LIE[EVDW]']\n",
        "lie_total = lie_elec + lie_vdw\n",
        "lie_total_mean = mean(lie_total)\n",
        "lie_total_stdev = stdev(lie_total)\n",
        "print(\"Interaction Energy Average = \" + str(\"{:.2f}\".format(lie_total_mean)) + \" \\u00B1 \" + str(\"{:.2f}\".format(lie_total_stdev)) + \" kcal/mol\")\n",
        "\n",
        "time = len(lie_total)*int(Write_the_trajectory)/1000\n",
        "time_array = np.arange(0,time,int(Write_the_trajectory)/1000)*int(stride_traj)\n",
        "\n",
        "# Plotting:\n",
        "ax = plt.plot(time_array, lie_total, alpha=0.6, color = 'blue', linewidth = 1.5, label= \"Total Energy\")\n",
        "ax = plt.plot(time_array, lie_elec, alpha=0.6, color = 'green', linewidth = 1.5, label= \"Electrostatic Energy\")\n",
        "ax = plt.plot(time_array, lie_vdw, alpha=0.6, color = 'red', linewidth = 1.5, label= \"van der Waals Energy\")\n",
        "\n",
        "plt.xlim(0, simulation_ns)\n",
        "#plt.ylim(2, 6)\n",
        "\n",
        "plt.xlabel(\"Time (ns)\", fontsize = 14, fontweight = 'bold')\n",
        "plt.ylabel('Interaction Energy \\n (kcal/mol)', fontsize = 14, fontweight = 'bold')\n",
        "plt.xticks(fontsize = 12)\n",
        "plt.yticks(fontsize = 12)\n",
        "plt.legend(frameon=False, loc='center left', bbox_to_anchor=(1, 0.5))\n",
        "plt.savefig(os.path.join(workDir, Output_name + \".png\"), dpi=600, bbox_inches='tight')\n",
        "\n",
        "lie_eelec = pd.DataFrame(lie['LIE[EELEC]'])\n",
        "lie_eelec.to_csv(os.path.join(workDir, Output_name + \"_eelec.csv\"))\n",
        "lie_evdw = pd.DataFrame(lie['LIE[EVDW]'])\n",
        "lie_evdw.to_csv(os.path.join(workDir, Output_name + \"_evdw.csv\"))"
      ],
      "metadata": {
        "cellView": "form",
        "id": "nGUWllVe3kSi"
      },
      "execution_count": null,
      "outputs": []
    },
    {
      "cell_type": "code",
      "source": [],
      "metadata": {
        "id": "M8LXsnmm3kUx"
      },
      "execution_count": null,
      "outputs": []
    },
    {
      "cell_type": "code",
      "source": [],
      "metadata": {
        "id": "kgU2sYUb3kW6"
      },
      "execution_count": null,
      "outputs": []
    },
    {
      "cell_type": "code",
      "source": [],
      "metadata": {
        "id": "usVl2cSn3kY-"
      },
      "execution_count": null,
      "outputs": []
    },
    {
      "cell_type": "code",
      "source": [],
      "metadata": {
        "id": "cZGttD053ka7"
      },
      "execution_count": null,
      "outputs": []
    },
    {
      "cell_type": "code",
      "source": [],
      "metadata": {
        "id": "ulHRoq433kdH"
      },
      "execution_count": null,
      "outputs": []
    },
    {
      "cell_type": "code",
      "source": [],
      "metadata": {
        "id": "MkuF-LFd3kfB"
      },
      "execution_count": null,
      "outputs": []
    },
    {
      "cell_type": "code",
      "source": [],
      "metadata": {
        "id": "yL_gaypx3khR"
      },
      "execution_count": null,
      "outputs": []
    },
    {
      "cell_type": "code",
      "source": [],
      "metadata": {
        "id": "NoH9xXnj0t55"
      },
      "execution_count": null,
      "outputs": []
    },
    {
      "cell_type": "code",
      "source": [],
      "metadata": {
        "id": "8bYV_XJG0t8Y"
      },
      "execution_count": null,
      "outputs": []
    },
    {
      "cell_type": "code",
      "source": [],
      "metadata": {
        "id": "sxEWdIM20PUg"
      },
      "execution_count": null,
      "outputs": []
    },
    {
      "cell_type": "markdown",
      "source": [
        "# **LiBELa**"
      ],
      "metadata": {
        "id": "7L4-LmW22oH6"
      }
    },
    {
      "cell_type": "code",
      "source": [
        "!pip install git+https://github.com/pyparsing/pyparsing"
      ],
      "metadata": {
        "id": "e3RKhHkL3ByS",
        "outputId": "1fd05f15-4bae-44c8-c8d8-1f1f46df9abc",
        "colab": {
          "base_uri": "https://localhost:8080/"
        }
      },
      "execution_count": 9,
      "outputs": [
        {
          "output_type": "stream",
          "name": "stdout",
          "text": [
            "Looking in indexes: https://pypi.org/simple, https://us-python.pkg.dev/colab-wheels/public/simple/\n",
            "Collecting git+https://github.com/pyparsing/pyparsing\n",
            "  Cloning https://github.com/pyparsing/pyparsing to /tmp/pip-req-build-txzhrqic\n",
            "  Running command git clone --filter=blob:none --quiet https://github.com/pyparsing/pyparsing /tmp/pip-req-build-txzhrqic\n",
            "  Resolved https://github.com/pyparsing/pyparsing to commit 8e7ed8f2704f8d64bd79c1308c19d2b6fe0f781c\n",
            "  Installing build dependencies ... \u001b[?25l\u001b[?25hdone\n",
            "  Getting requirements to build wheel ... \u001b[?25l\u001b[?25hdone\n",
            "  Preparing metadata (pyproject.toml) ... \u001b[?25l\u001b[?25hdone\n",
            "Building wheels for collected packages: pyparsing\n",
            "  Building wheel for pyparsing (pyproject.toml) ... \u001b[?25l\u001b[?25hdone\n",
            "  Created wheel for pyparsing: filename=pyparsing-3.0.10-py3-none-any.whl size=102246 sha256=771b997a858f198a51aeb75e233e43de35aa1c5a980a05be49af83c93208bbec\n",
            "  Stored in directory: /tmp/pip-ephem-wheel-cache-76dyzhjz/wheels/0d/d3/ff/5528e199378b7ee7a083f394f86303a6f07ff26b25ec1a19a6\n",
            "Successfully built pyparsing\n",
            "Installing collected packages: pyparsing\n",
            "  Attempting uninstall: pyparsing\n",
            "    Found existing installation: pyparsing 3.0.9\n",
            "    Uninstalling pyparsing-3.0.9:\n",
            "      Successfully uninstalled pyparsing-3.0.9\n",
            "Successfully installed pyparsing-3.0.10\n",
            "\u001b[33mWARNING: Running pip as the 'root' user can result in broken permissions and conflicting behaviour with the system package manager. It is recommended to use a virtual environment instead: https://pip.pypa.io/warnings/venv\u001b[0m\u001b[33m\n",
            "\u001b[0m"
          ]
        }
      ]
    },
    {
      "cell_type": "code",
      "execution_count": 4,
      "metadata": {
        "colab": {
          "base_uri": "https://localhost:8080/"
        },
        "id": "LkNCFy2dTXJX",
        "outputId": "69cac850-d513-427d-b0da-dfa8c52be590"
      },
      "outputs": [
        {
          "output_type": "stream",
          "name": "stdout",
          "text": [
            "Reading package lists... Done\n",
            "Building dependency tree       \n",
            "Reading state information... Done\n",
            "Note, selecting 'python-dev-is-python2' instead of 'python-dev'\n",
            "libboost-python1.71-dev is already the newest version (1.71.0-6ubuntu6).\n",
            "libboost-python1.71-dev set to manually installed.\n",
            "The following additional packages will be installed:\n",
            "  libopenbabel6 libpython2-dev libpython2-stdlib libpython2.7 libpython2.7-dev\n",
            "  libschroedinger-maeparser1 python-is-python2 python2 python2-dev\n",
            "  python2-minimal python2.7-dev\n",
            "Suggested packages:\n",
            "  python2-doc python-tk\n",
            "The following NEW packages will be installed:\n",
            "  libopenbabel6 libpython2-dev libpython2-stdlib libpython2.7 libpython2.7-dev\n",
            "  libschroedinger-maeparser1 openbabel python-dev-is-python2 python-is-python2\n",
            "  python2 python2-dev python2-minimal python2.7-dev\n",
            "0 upgraded, 13 newly installed, 0 to remove and 22 not upgraded.\n",
            "Need to get 7,654 kB of archives.\n",
            "After this operation, 35.9 MB of additional disk space will be used.\n",
            "Get:1 http://archive.ubuntu.com/ubuntu focal/universe amd64 python2-minimal amd64 2.7.17-2ubuntu4 [27.5 kB]\n",
            "Get:2 http://archive.ubuntu.com/ubuntu focal/universe amd64 libpython2-stdlib amd64 2.7.17-2ubuntu4 [7,072 B]\n",
            "Get:3 http://archive.ubuntu.com/ubuntu focal/universe amd64 python2 amd64 2.7.17-2ubuntu4 [26.5 kB]\n",
            "Get:4 http://archive.ubuntu.com/ubuntu focal/universe amd64 libschroedinger-maeparser1 amd64 1.2.2-1build1 [89.1 kB]\n",
            "Get:5 http://archive.ubuntu.com/ubuntu focal/universe amd64 libopenbabel6 amd64 3.0.0+dfsg-3ubuntu3 [3,568 kB]\n",
            "Get:6 http://archive.ubuntu.com/ubuntu focal-updates/universe amd64 libpython2.7 amd64 2.7.18-1~20.04.3 [1,037 kB]\n",
            "Get:7 http://archive.ubuntu.com/ubuntu focal-updates/universe amd64 libpython2.7-dev amd64 2.7.18-1~20.04.3 [2,466 kB]\n",
            "Get:8 http://archive.ubuntu.com/ubuntu focal/universe amd64 libpython2-dev amd64 2.7.17-2ubuntu4 [7,140 B]\n",
            "Get:9 http://archive.ubuntu.com/ubuntu focal/universe amd64 openbabel amd64 3.0.0+dfsg-3ubuntu3 [127 kB]\n",
            "Get:10 http://archive.ubuntu.com/ubuntu focal/universe amd64 python-is-python2 all 2.7.17-4 [2,496 B]\n",
            "Get:11 http://archive.ubuntu.com/ubuntu focal-updates/universe amd64 python2.7-dev amd64 2.7.18-1~20.04.3 [293 kB]\n",
            "Get:12 http://archive.ubuntu.com/ubuntu focal/universe amd64 python2-dev amd64 2.7.17-2ubuntu4 [1,268 B]\n",
            "Get:13 http://archive.ubuntu.com/ubuntu focal/universe amd64 python-dev-is-python2 all 2.7.17-4 [1,396 B]\n",
            "Fetched 7,654 kB in 1s (6,376 kB/s)\n",
            "Selecting previously unselected package python2-minimal.\n",
            "(Reading database ... 128213 files and directories currently installed.)\n",
            "Preparing to unpack .../python2-minimal_2.7.17-2ubuntu4_amd64.deb ...\n",
            "Unpacking python2-minimal (2.7.17-2ubuntu4) ...\n",
            "Selecting previously unselected package libpython2-stdlib:amd64.\n",
            "Preparing to unpack .../libpython2-stdlib_2.7.17-2ubuntu4_amd64.deb ...\n",
            "Unpacking libpython2-stdlib:amd64 (2.7.17-2ubuntu4) ...\n",
            "Setting up python2-minimal (2.7.17-2ubuntu4) ...\n",
            "Selecting previously unselected package python2.\n",
            "(Reading database ... 128242 files and directories currently installed.)\n",
            "Preparing to unpack .../00-python2_2.7.17-2ubuntu4_amd64.deb ...\n",
            "Unpacking python2 (2.7.17-2ubuntu4) ...\n",
            "Selecting previously unselected package libschroedinger-maeparser1:amd64.\n",
            "Preparing to unpack .../01-libschroedinger-maeparser1_1.2.2-1build1_amd64.deb ...\n",
            "Unpacking libschroedinger-maeparser1:amd64 (1.2.2-1build1) ...\n",
            "Selecting previously unselected package libopenbabel6.\n",
            "Preparing to unpack .../02-libopenbabel6_3.0.0+dfsg-3ubuntu3_amd64.deb ...\n",
            "Unpacking libopenbabel6 (3.0.0+dfsg-3ubuntu3) ...\n",
            "Selecting previously unselected package libpython2.7:amd64.\n",
            "Preparing to unpack .../03-libpython2.7_2.7.18-1~20.04.3_amd64.deb ...\n",
            "Unpacking libpython2.7:amd64 (2.7.18-1~20.04.3) ...\n",
            "Selecting previously unselected package libpython2.7-dev:amd64.\n",
            "Preparing to unpack .../04-libpython2.7-dev_2.7.18-1~20.04.3_amd64.deb ...\n",
            "Unpacking libpython2.7-dev:amd64 (2.7.18-1~20.04.3) ...\n",
            "Selecting previously unselected package libpython2-dev:amd64.\n",
            "Preparing to unpack .../05-libpython2-dev_2.7.17-2ubuntu4_amd64.deb ...\n",
            "Unpacking libpython2-dev:amd64 (2.7.17-2ubuntu4) ...\n",
            "Selecting previously unselected package openbabel.\n",
            "Preparing to unpack .../06-openbabel_3.0.0+dfsg-3ubuntu3_amd64.deb ...\n",
            "Unpacking openbabel (3.0.0+dfsg-3ubuntu3) ...\n",
            "Selecting previously unselected package python-is-python2.\n",
            "Preparing to unpack .../07-python-is-python2_2.7.17-4_all.deb ...\n",
            "Unpacking python-is-python2 (2.7.17-4) ...\n",
            "Selecting previously unselected package python2.7-dev.\n",
            "Preparing to unpack .../08-python2.7-dev_2.7.18-1~20.04.3_amd64.deb ...\n",
            "Unpacking python2.7-dev (2.7.18-1~20.04.3) ...\n",
            "Selecting previously unselected package python2-dev.\n",
            "Preparing to unpack .../09-python2-dev_2.7.17-2ubuntu4_amd64.deb ...\n",
            "Unpacking python2-dev (2.7.17-2ubuntu4) ...\n",
            "Selecting previously unselected package python-dev-is-python2.\n",
            "Preparing to unpack .../10-python-dev-is-python2_2.7.17-4_all.deb ...\n",
            "Unpacking python-dev-is-python2 (2.7.17-4) ...\n",
            "Setting up libpython2.7:amd64 (2.7.18-1~20.04.3) ...\n",
            "Setting up libpython2.7-dev:amd64 (2.7.18-1~20.04.3) ...\n",
            "Setting up libpython2-stdlib:amd64 (2.7.17-2ubuntu4) ...\n",
            "Setting up python2 (2.7.17-2ubuntu4) ...\n",
            "Setting up libschroedinger-maeparser1:amd64 (1.2.2-1build1) ...\n",
            "Setting up libpython2-dev:amd64 (2.7.17-2ubuntu4) ...\n",
            "Setting up python-is-python2 (2.7.17-4) ...\n",
            "Setting up python2.7-dev (2.7.18-1~20.04.3) ...\n",
            "Setting up python2-dev (2.7.17-2ubuntu4) ...\n",
            "Setting up libopenbabel6 (3.0.0+dfsg-3ubuntu3) ...\n",
            "Setting up openbabel (3.0.0+dfsg-3ubuntu3) ...\n",
            "Setting up python-dev-is-python2 (2.7.17-4) ...\n",
            "Processing triggers for man-db (2.9.1-1) ...\n",
            "Processing triggers for libc-bin (2.31-0ubuntu9.9) ...\n"
          ]
        }
      ],
      "source": [
        "! apt-get install libboost-python1.71-dev openbabel python-dev"
      ]
    },
    {
      "cell_type": "code",
      "source": [
        "! rm -f pyPARSER*\n",
        "!wget https://raw.githubusercontent.com/alessandronascimento/pyLiBELa/main/src/pyPARSER.cpp\n",
        "!wget https://raw.githubusercontent.com/alessandronascimento/pyLiBELa/main/src/pyPARSER.h\n",
        "!g++ -Wall -Wextra -fPIC -shared -I/usr/include/python3.8 pyPARSER.cpp -o pyPARSER.so -L/usr/lib/x86_64-linux-gnu -lboost_python38"
      ],
      "metadata": {
        "colab": {
          "base_uri": "https://localhost:8080/"
        },
        "id": "57ftJ-G2T4oi",
        "outputId": "eb759d99-0f19-4526-e678-1f3b2ca211cc"
      },
      "execution_count": null,
      "outputs": [
        {
          "output_type": "stream",
          "name": "stdout",
          "text": [
            "--2023-02-28 15:32:47--  https://raw.githubusercontent.com/alessandronascimento/pyLiBELa/main/src/pyPARSER.cpp\n",
            "Resolving raw.githubusercontent.com (raw.githubusercontent.com)... 185.199.109.133, 185.199.111.133, 185.199.110.133, ...\n",
            "Connecting to raw.githubusercontent.com (raw.githubusercontent.com)|185.199.109.133|:443... connected.\n",
            "HTTP request sent, awaiting response... 200 OK\n",
            "Length: 22346 (22K) [text/plain]\n",
            "Saving to: ‘pyPARSER.cpp’\n",
            "\n",
            "\rpyPARSER.cpp          0%[                    ]       0  --.-KB/s               \rpyPARSER.cpp        100%[===================>]  21.82K  --.-KB/s    in 0.002s  \n",
            "\n",
            "2023-02-28 15:32:47 (12.5 MB/s) - ‘pyPARSER.cpp’ saved [22346/22346]\n",
            "\n",
            "--2023-02-28 15:32:47--  https://raw.githubusercontent.com/alessandronascimento/pyLiBELa/main/src/pyPARSER.h\n",
            "Resolving raw.githubusercontent.com (raw.githubusercontent.com)... 185.199.108.133, 185.199.109.133, 185.199.110.133, ...\n",
            "Connecting to raw.githubusercontent.com (raw.githubusercontent.com)|185.199.108.133|:443... connected.\n",
            "HTTP request sent, awaiting response... 200 OK\n",
            "Length: 12042 (12K) [text/plain]\n",
            "Saving to: ‘pyPARSER.h’\n",
            "\n",
            "pyPARSER.h          100%[===================>]  11.76K  --.-KB/s    in 0s      \n",
            "\n",
            "2023-02-28 15:32:48 (65.9 MB/s) - ‘pyPARSER.h’ saved [12042/12042]\n",
            "\n"
          ]
        }
      ]
    },
    {
      "cell_type": "code",
      "source": [
        "!ls"
      ],
      "metadata": {
        "colab": {
          "base_uri": "https://localhost:8080/"
        },
        "id": "dOEUGvKLUrA2",
        "outputId": "87d43201-9b43-45b3-bc78-13a97ad6aac1"
      },
      "execution_count": 7,
      "outputs": [
        {
          "output_type": "stream",
          "name": "stdout",
          "text": [
            "condacolab_install.log\topenff_unconstrained-2.0.0.offxml  prolif.sh\n",
            "drive\t\t\tProLIF\t\t\t\t   sample_data\n",
            "Looking in indexes: https://pypi.org/simple, https://us-python.pkg.dev/colab-wheels/public/simple/\n",
            "Collecting pyPARSER\n",
            "  Downloading pyparser-1.0.tar.gz (4.0 kB)\n",
            "  Preparing metadata (setup.py) ... \u001b[?25l\u001b[?25hdone\n",
            "Collecting parse==1.6.5\n",
            "  Downloading parse-1.6.5.tar.gz (24 kB)\n",
            "  Preparing metadata (setup.py) ... \u001b[?25l\u001b[?25hdone\n",
            "Building wheels for collected packages: pyPARSER, parse\n",
            "  Building wheel for pyPARSER (setup.py) ... \u001b[?25l\u001b[?25hdone\n",
            "  Created wheel for pyPARSER: filename=pyparser-1.0-py3-none-any.whl size=4921 sha256=4d025e9b622bb7c5d724d4b5fe04b365feb60c4c15e8e242b6fddeb909d197ba\n",
            "  Stored in directory: /root/.cache/pip/wheels/d5/c1/97/c8d64328b6d76c0393314e67e06e366a75b7ffdf0406d2afc3\n",
            "  Building wheel for parse (setup.py) ... \u001b[?25l\u001b[?25hdone\n",
            "  Created wheel for parse: filename=parse-1.6.5-py3-none-any.whl size=18155 sha256=fa1e76cde17d567b61e237a229ca77289feacc114c9819c2b6433027c36b29a0\n",
            "  Stored in directory: /root/.cache/pip/wheels/ec/be/db/6c913790b51ae090743152e15158ee7effdaefea9a940330e6\n",
            "Successfully built pyPARSER parse\n",
            "Installing collected packages: parse, pyPARSER\n",
            "Successfully installed parse-1.6.5 pyPARSER-1.0\n",
            "\u001b[33mWARNING: Running pip as the 'root' user can result in broken permissions and conflicting behaviour with the system package manager. It is recommended to use a virtual environment instead: https://pip.pypa.io/warnings/venv\u001b[0m\u001b[33m\n",
            "\u001b[0m"
          ]
        }
      ]
    },
    {
      "cell_type": "code",
      "source": [
        "#from pyPARSER import *\n",
        "from pyparsing import *\n",
        "\n",
        "Input = PARSER()\n",
        "\n",
        "print(Input.temp)"
      ],
      "metadata": {
        "colab": {
          "base_uri": "https://localhost:8080/",
          "height": 245
        },
        "id": "6gGSOCc2p-xo",
        "outputId": "3990acc8-aab4-4cda-9758-33cb9f1744bc"
      },
      "execution_count": 11,
      "outputs": [
        {
          "output_type": "error",
          "ename": "NameError",
          "evalue": "ignored",
          "traceback": [
            "\u001b[0;31m---------------------------------------------------------------------------\u001b[0m",
            "\u001b[0;31mNameError\u001b[0m                                 Traceback (most recent call last)",
            "\u001b[0;32m<ipython-input-11-4686d2639251>\u001b[0m in \u001b[0;36m<module>\u001b[0;34m\u001b[0m\n\u001b[1;32m      1\u001b[0m \u001b[0;31m#from pyPARSER import *\u001b[0m\u001b[0;34m\u001b[0m\u001b[0;34m\u001b[0m\u001b[0;34m\u001b[0m\u001b[0m\n\u001b[1;32m      2\u001b[0m \u001b[0;32mfrom\u001b[0m \u001b[0mpyparsing\u001b[0m \u001b[0;32mimport\u001b[0m \u001b[0;34m*\u001b[0m\u001b[0;34m\u001b[0m\u001b[0;34m\u001b[0m\u001b[0m\n\u001b[0;32m----> 3\u001b[0;31m \u001b[0mInput\u001b[0m \u001b[0;34m=\u001b[0m \u001b[0mPARSER\u001b[0m\u001b[0;34m(\u001b[0m\u001b[0;34m)\u001b[0m\u001b[0;34m\u001b[0m\u001b[0;34m\u001b[0m\u001b[0m\n\u001b[0m\u001b[1;32m      4\u001b[0m \u001b[0;34m\u001b[0m\u001b[0m\n\u001b[1;32m      5\u001b[0m \u001b[0mprint\u001b[0m\u001b[0;34m(\u001b[0m\u001b[0mInput\u001b[0m\u001b[0;34m.\u001b[0m\u001b[0mtemp\u001b[0m\u001b[0;34m)\u001b[0m\u001b[0;34m\u001b[0m\u001b[0;34m\u001b[0m\u001b[0m\n",
            "\u001b[0;31mNameError\u001b[0m: name 'PARSER' is not defined"
          ]
        }
      ]
    },
    {
      "cell_type": "code",
      "source": [
        "pyparsing.PARSER"
      ],
      "metadata": {
        "id": "_s7T1IVA23pp",
        "outputId": "399a3517-e1a5-4dce-b5aa-2effde8d7f43",
        "colab": {
          "base_uri": "https://localhost:8080/",
          "height": 171
        }
      },
      "execution_count": 13,
      "outputs": [
        {
          "output_type": "error",
          "ename": "NameError",
          "evalue": "ignored",
          "traceback": [
            "\u001b[0;31m---------------------------------------------------------------------------\u001b[0m",
            "\u001b[0;31mNameError\u001b[0m                                 Traceback (most recent call last)",
            "\u001b[0;32m<ipython-input-13-17df0b9eb810>\u001b[0m in \u001b[0;36m<module>\u001b[0;34m\u001b[0m\n\u001b[0;32m----> 1\u001b[0;31m \u001b[0mpyparsing\u001b[0m\u001b[0;34m.\u001b[0m\u001b[0mPARSER\u001b[0m\u001b[0;34m\u001b[0m\u001b[0;34m\u001b[0m\u001b[0m\n\u001b[0m",
            "\u001b[0;31mNameError\u001b[0m: name 'pyparsing' is not defined"
          ]
        }
      ]
    },
    {
      "cell_type": "code",
      "source": [],
      "metadata": {
        "id": "A_VUs_9d3aHr"
      },
      "execution_count": null,
      "outputs": []
    }
  ]
}