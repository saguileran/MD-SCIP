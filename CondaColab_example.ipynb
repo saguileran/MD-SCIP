{
  "nbformat": 4,
  "nbformat_minor": 0,
  "metadata": {
    "colab": {
      "provenance": [],
      "include_colab_link": true
    },
    "kernelspec": {
      "display_name": "Python 3",
      "name": "python3"
    },
    "accelerator": "GPU"
  },
  "cells": [
    {
      "cell_type": "markdown",
      "metadata": {
        "id": "view-in-github",
        "colab_type": "text"
      },
      "source": [
        "<a href=\"https://colab.research.google.com/github/saguileran/MD-SCIP/blob/main/CondaColab_example.ipynb\" target=\"_parent\"><img src=\"https://colab.research.google.com/assets/colab-badge.svg\" alt=\"Open In Colab\"/></a>"
      ]
    },
    {
      "cell_type": "markdown",
      "metadata": {
        "id": "DBzkeuwE5oUV"
      },
      "source": [
        "# Install Conda on Google Colab\n",
        "\n",
        "<!-- By Jaime Rodríguez-Guerra <@jaimergp>. Last modified 2022.08.26 -->\n",
        "\n",
        "`condacolab` simplifies the setup as much as possible, but there are some gotchas.\n",
        "\n",
        "**⚠️ Read this before continuing!**\n",
        "\n",
        "* The `condacolab` commands need to be run as the first Code cell!\n",
        "* Once you run `condacolab.install()`, the Python kernel will be restarted. This is **normal and expected**. After that, you can continue running the cells below like normal.\n",
        "* Do not use the `Run all` option. Run the `condacolab` cell _individually_ and wait for the kernel to restart. **Only then**, you can run all cells if you want.\n",
        "* You can only use the `base` environment. Do not try to create new ones; instead update `base` with either:\n",
        "  * `conda install <packages>`\n",
        "  * `conda env update -n base -f environment.yml`\n",
        "* If you want to use GPUs, make sure you are using such an instance before starting!\n",
        "* If you get an error, please raise an issue [here](https://github.com/jaimergp/condacolab/issues)."
      ]
    },
    {
      "cell_type": "code",
      "metadata": {
        "colab": {
          "base_uri": "https://localhost:8080/"
        },
        "id": "LAZ11nESX6qt",
        "outputId": "ecd0cbf9-e438-4cb5-c7ae-3d4135857ce3"
      },
      "source": [
        "!pip install -q condacolab\n",
        "import condacolab\n",
        "condacolab.install()"
      ],
      "execution_count": null,
      "outputs": [
        {
          "output_type": "stream",
          "text": [
            "⏬ Downloading https://github.com/jaimergp/miniforge/releases/latest/download/Mambaforge-colab-Linux-x86_64.sh...\n",
            "📦 Installing...\n",
            "📌 Adjusting configuration...\n",
            "🩹 Patching environment...\n",
            "⏲ Done in 0:00:40\n",
            "🔁 Restarting kernel...\n"
          ],
          "name": "stdout"
        }
      ]
    },
    {
      "cell_type": "code",
      "metadata": {
        "colab": {
          "base_uri": "https://localhost:8080/"
        },
        "id": "wRDyL3hPYAOx",
        "outputId": "a5a74feb-9385-4a16-8c15-7acddfc221d7"
      },
      "source": [
        "import condacolab\n",
        "condacolab.check()"
      ],
      "execution_count": null,
      "outputs": [
        {
          "output_type": "stream",
          "text": [
            "✨🍰✨ Everything looks OK!\n"
          ],
          "name": "stdout"
        }
      ]
    },
    {
      "cell_type": "code",
      "metadata": {
        "colab": {
          "base_uri": "https://localhost:8080/"
        },
        "id": "WVrfw3Ir0gwL",
        "outputId": "f2a94bb7-a512-444d-a955-abfda73ede72"
      },
      "source": [
        "!mamba install -q openmm"
      ],
      "execution_count": null,
      "outputs": [
        {
          "output_type": "stream",
          "text": [
            "  Package         Version  Build                Channel                    Size\n",
            "─────────────────────────────────────────────────────────────────────────────────\n",
            "  Install:\n",
            "─────────────────────────────────────────────────────────────────────────────────\n",
            "\n",
            "\u001b[32m  cudatoolkit   \u001b[00m   11.0.3  h15472ef_8           conda-forge/linux-64     952 MB\n",
            "\u001b[32m  fftw          \u001b[00m    3.3.9  nompi_hcdd671c_101   conda-forge/linux-64       6 MB\n",
            "\u001b[32m  libblas       \u001b[00m    3.9.0  8_openblas           conda-forge/linux-64      11 KB\n",
            "\u001b[32m  libcblas      \u001b[00m    3.9.0  8_openblas           conda-forge/linux-64      11 KB\n",
            "\u001b[32m  libgfortran-ng\u001b[00m    9.3.0  hff62375_18          conda-forge/linux-64      22 KB\n",
            "\u001b[32m  libgfortran5  \u001b[00m    9.3.0  hff62375_18          conda-forge/linux-64       2 MB\n",
            "\u001b[32m  liblapack     \u001b[00m    3.9.0  8_openblas           conda-forge/linux-64      11 KB\n",
            "\u001b[32m  libopenblas   \u001b[00m   0.3.12  pthreads_h4812303_1  conda-forge/linux-64       9 MB\n",
            "\u001b[32m  numpy         \u001b[00m   1.20.1  py37haa41c4c_0       conda-forge/linux-64       6 MB\n",
            "\u001b[32m  ocl-icd       \u001b[00m   2.2.14  h7f98852_0           conda-forge/linux-64     118 KB\n",
            "\u001b[32m  ocl-icd-system\u001b[00m    1.0.0  1                    conda-forge/linux-64       4 KB\n",
            "\u001b[32m  openmm        \u001b[00m    7.5.0  py37h01de88b_6       conda-forge/linux-64      11 MB\n",
            "\n",
            "  Summary:\n",
            "\n",
            "  Install: 12 packages\n",
            "\n",
            "  Total download: 986 MB\n",
            "\n",
            "─────────────────────────────────────────────────────────────────────────────────\n",
            "\n",
            "Preparing transaction: ...working... done\n",
            "Verifying transaction: ...working... done\n",
            "Executing transaction: ...working... By downloading and using the CUDA Toolkit conda packages, you accept the terms and conditions of the CUDA End User License Agreement (EULA): https://docs.nvidia.com/cuda/eula/index.html\n",
            "\n",
            "done\n"
          ],
          "name": "stdout"
        }
      ]
    },
    {
      "cell_type": "markdown",
      "metadata": {
        "id": "qEik8oTP74T7"
      },
      "source": [
        "For the CUDA platform to be available, make sure you are using a GPU environment."
      ]
    },
    {
      "cell_type": "code",
      "metadata": {
        "colab": {
          "base_uri": "https://localhost:8080/"
        },
        "id": "hQzulZQF15aD",
        "outputId": "9861996c-fbde-457c-a26d-860e8fc314c3"
      },
      "source": [
        "from simtk.testInstallation import main \n",
        "main()"
      ],
      "execution_count": null,
      "outputs": [
        {
          "output_type": "stream",
          "text": [
            "\n",
            "OpenMM Version: 7.5\n",
            "Git Revision: b49b82efb5a253a7c891ca084b3370e181de2ea3\n",
            "\n",
            "There are 4 Platforms available:\n",
            "\n",
            "1 Reference - Successfully computed forces\n",
            "2 CPU - Successfully computed forces\n",
            "3 CUDA - Successfully computed forces\n",
            "4 OpenCL - Successfully computed forces\n",
            "\n",
            "Median difference in forces between platforms:\n",
            "\n",
            "Reference vs. CPU: 6.29199e-06\n",
            "Reference vs. CUDA: 6.73078e-06\n",
            "CPU vs. CUDA: 7.48056e-07\n",
            "Reference vs. OpenCL: 6.75891e-06\n",
            "CPU vs. OpenCL: 8.11491e-07\n",
            "CUDA vs. OpenCL: 2.68874e-07\n",
            "\n",
            "All differences are within tolerance.\n"
          ],
          "name": "stdout"
        }
      ]
    },
    {
      "cell_type": "code",
      "metadata": {
        "id": "h0yHSm5m51QT"
      },
      "source": [],
      "execution_count": null,
      "outputs": []
    }
  ]
}